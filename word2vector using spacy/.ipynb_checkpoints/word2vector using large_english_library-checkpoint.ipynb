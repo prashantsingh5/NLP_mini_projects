{
 "cells": [
  {
   "cell_type": "code",
   "execution_count": 18,
   "id": "8008f295",
   "metadata": {},
   "outputs": [],
   "source": [
    "import spacy\n",
    "from sklearn.metrics.pairwise import cosine_similarity\n"
   ]
  },
  {
   "cell_type": "code",
   "execution_count": 3,
   "id": "b51b452e",
   "metadata": {},
   "outputs": [],
   "source": [
    "nlp=spacy.load(\"en_core_web_lg\")"
   ]
  },
  {
   "cell_type": "code",
   "execution_count": 8,
   "id": "35271e96",
   "metadata": {},
   "outputs": [
    {
     "name": "stdout",
     "output_type": "stream",
     "text": [
      "cat vector: True oov: False\n",
      "dog vector: True oov: False\n",
      "bread vector: True oov: False\n",
      "lion vector: True oov: False\n",
      "prashant vector: False oov: True\n",
      "table vector: True oov: False\n"
     ]
    }
   ],
   "source": [
    "doc=nlp(\"cat dog bread lion prashant table\")\n",
    "for token in doc:\n",
    "    print(token.text,'vector:',token.has_vector,'oov:',token.is_oov)\n"
   ]
  },
  {
   "cell_type": "code",
   "execution_count": 9,
   "id": "033ff56a",
   "metadata": {},
   "outputs": [
    {
     "data": {
      "text/plain": [
       "(300,)"
      ]
     },
     "execution_count": 9,
     "metadata": {},
     "output_type": "execute_result"
    }
   ],
   "source": [
    "doc[1].vector.shape"
   ]
  },
  {
   "cell_type": "code",
   "execution_count": 10,
   "id": "104354f5",
   "metadata": {},
   "outputs": [],
   "source": [
    "base_token=nlp('bread')"
   ]
  },
  {
   "cell_type": "code",
   "execution_count": 13,
   "id": "5b2278ad",
   "metadata": {},
   "outputs": [
    {
     "name": "stdout",
     "output_type": "stream",
     "text": [
      "sandwich <-> bread: 0.6341067010130894\n",
      "burger <-> bread: 0.47520687769584247\n",
      "car <-> bread: 0.06451532596945217\n",
      "cat <-> bread: 0.1255933851043781\n",
      "tiger <-> bread: 0.04764611272488976\n",
      "wheat <-> bread: 0.615036141030184\n",
      "bread <-> bread: 0.9999999744752309\n"
     ]
    }
   ],
   "source": [
    "doc1=nlp('sandwich burger car cat tiger wheat bread')\n",
    "for token in doc1:\n",
    "    print(f\"{token.text} <-> {base_token.text}:\", token.similarity(base_token))"
   ]
  },
  {
   "cell_type": "code",
   "execution_count": 14,
   "id": "799fd5ee",
   "metadata": {},
   "outputs": [],
   "source": [
    "def print_similarity(base_word, words_to_compare):\n",
    "    base_token = nlp(base_word)\n",
    "    doc = nlp(words_to_compare)\n",
    "    for token in doc:\n",
    "        print(f\"{token.text} <-> {base_token.text}: \", token.similarity(base_token))"
   ]
  },
  {
   "cell_type": "code",
   "execution_count": 15,
   "id": "38364481",
   "metadata": {},
   "outputs": [
    {
     "name": "stdout",
     "output_type": "stream",
     "text": [
      "apple <-> iphone:  0.4387907748060368\n",
      "samsung <-> iphone:  0.6708590303423401\n",
      "iphone <-> iphone:  0.9999999983096304\n",
      "dog <-> iphone:  0.08211864228011527\n",
      "kitten <-> iphone:  0.10222317834969896\n"
     ]
    }
   ],
   "source": [
    "print_similarity(\"iphone\", \"apple samsung iphone dog kitten\")"
   ]
  },
  {
   "cell_type": "code",
   "execution_count": 28,
   "id": "872d9d4c",
   "metadata": {},
   "outputs": [],
   "source": [
    "king = nlp.vocab[\"king\"].vector\n",
    "man = nlp.vocab[\"man\"].vector\n",
    "woman = nlp.vocab[\"woman\"].vector\n",
    "queen = nlp.vocab[\"queen\"].vector\n",
    "\n",
    "result = king - man + woman"
   ]
  },
  {
   "cell_type": "code",
   "execution_count": 29,
   "id": "2521b062",
   "metadata": {},
   "outputs": [
    {
     "data": {
      "text/plain": [
       "array([[0.06814879]], dtype=float32)"
      ]
     },
     "execution_count": 29,
     "metadata": {},
     "output_type": "execute_result"
    }
   ],
   "source": [
    "cosine_similarity([result], [queen])"
   ]
  },
  {
   "cell_type": "code",
   "execution_count": 23,
   "id": "8765dc7c",
   "metadata": {},
   "outputs": [],
   "source": [
    "most_similar_word = nlp.vocab.vectors.most_similar(result.reshape(1, -1), n=1)[0][0]"
   ]
  },
  {
   "cell_type": "code",
   "execution_count": 24,
   "id": "13070e13",
   "metadata": {},
   "outputs": [
    {
     "data": {
      "text/plain": [
       "array([7464393751932445219], dtype=uint64)"
      ]
     },
     "execution_count": 24,
     "metadata": {},
     "output_type": "execute_result"
    }
   ],
   "source": [
    "most_similar_word"
   ]
  },
  {
   "cell_type": "code",
   "execution_count": 25,
   "id": "b14294e0",
   "metadata": {},
   "outputs": [],
   "source": [
    "most_similar_word_text = nlp.vocab.strings[most_similar_word]"
   ]
  },
  {
   "cell_type": "code",
   "execution_count": 26,
   "id": "b4c06788",
   "metadata": {},
   "outputs": [
    {
     "name": "stdout",
     "output_type": "stream",
     "text": [
      "king\n"
     ]
    }
   ],
   "source": [
    "print(most_similar_word_text)"
   ]
  },
  {
   "cell_type": "code",
   "execution_count": 35,
   "id": "1136a9e1",
   "metadata": {},
   "outputs": [],
   "source": [
    "cat = nlp.vocab['cat'].vector\n",
    "baby = nlp.vocab[\"baby\"].vector\n",
    "kitten=nlp.vocab['kitten'].vector\n",
    "result1 = cat+baby"
   ]
  },
  {
   "cell_type": "code",
   "execution_count": 38,
   "id": "bba91a19",
   "metadata": {},
   "outputs": [
    {
     "data": {
      "text/plain": [
       "array([[0.77655965]], dtype=float32)"
      ]
     },
     "execution_count": 38,
     "metadata": {},
     "output_type": "execute_result"
    }
   ],
   "source": [
    "cosine_similarity([result1], [kitten])"
   ]
  },
  {
   "cell_type": "code",
   "execution_count": 41,
   "id": "c3b42a8d",
   "metadata": {},
   "outputs": [],
   "source": [
    "dog = nlp.vocab['dog'].vector\n",
    "baby = nlp.vocab[\"baby\"].vector\n",
    "puppy=nlp.vocab['puppy'].vector\n",
    "result1 = dog + baby"
   ]
  },
  {
   "cell_type": "code",
   "execution_count": 44,
   "id": "f6fa499a",
   "metadata": {},
   "outputs": [
    {
     "data": {
      "text/plain": [
       "array([[0.91349435]], dtype=float32)"
      ]
     },
     "execution_count": 44,
     "metadata": {},
     "output_type": "execute_result"
    }
   ],
   "source": [
    "cosine_similarity([result1], [puppy])"
   ]
  },
  {
   "cell_type": "code",
   "execution_count": 43,
   "id": "ada6d577",
   "metadata": {},
   "outputs": [
    {
     "name": "stdout",
     "output_type": "stream",
     "text": [
      "dog\n"
     ]
    }
   ],
   "source": [
    "most_similar_word = nlp.vocab.vectors.most_similar(result1.reshape(1, -1), n=1)[0][0]\n",
    "most_similar_word_text = nlp.vocab.strings[most_similar_word]\n",
    "print(most_similar_word_text)"
   ]
  },
  {
   "cell_type": "code",
   "execution_count": null,
   "id": "028334e8",
   "metadata": {},
   "outputs": [],
   "source": []
  }
 ],
 "metadata": {
  "kernelspec": {
   "display_name": "Python 3 (ipykernel)",
   "language": "python",
   "name": "python3"
  },
  "language_info": {
   "codemirror_mode": {
    "name": "ipython",
    "version": 3
   },
   "file_extension": ".py",
   "mimetype": "text/x-python",
   "name": "python",
   "nbconvert_exporter": "python",
   "pygments_lexer": "ipython3",
   "version": "3.11.3"
  }
 },
 "nbformat": 4,
 "nbformat_minor": 5
}
