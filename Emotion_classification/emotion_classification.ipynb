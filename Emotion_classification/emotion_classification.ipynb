{
 "cells": [
  {
   "cell_type": "code",
   "execution_count": 19,
   "id": "f443fa89",
   "metadata": {},
   "outputs": [],
   "source": [
    "import pandas as pd\n",
    "import spacy\n",
    "from sklearn.model_selection import train_test_split\n",
    "from sklearn.feature_extraction.text import TfidfVectorizer\n",
    "from sklearn.pipeline import Pipeline\n",
    "from sklearn.linear_model import LogisticRegression\n",
    "from sklearn.naive_bayes import MultinomialNB\n",
    "from sklearn.svm import SVC,SVR\n",
    "from sklearn.ensemble import RandomForestClassifier\n",
    "nlp = spacy.load(\"en_core_web_sm\") "
   ]
  },
  {
   "cell_type": "code",
   "execution_count": 2,
   "id": "d172d487",
   "metadata": {},
   "outputs": [],
   "source": [
    "df=pd.read_csv('Emotion_classify_Data.csv')"
   ]
  },
  {
   "cell_type": "code",
   "execution_count": 4,
   "id": "ed064ef7",
   "metadata": {},
   "outputs": [
    {
     "data": {
      "text/plain": [
       "anger    2000\n",
       "joy      2000\n",
       "fear     1937\n",
       "Name: Emotion, dtype: int64"
      ]
     },
     "execution_count": 4,
     "metadata": {},
     "output_type": "execute_result"
    }
   ],
   "source": [
    "df['Emotion'].value_counts()"
   ]
  },
  {
   "cell_type": "code",
   "execution_count": 5,
   "id": "0290ffa0",
   "metadata": {},
   "outputs": [],
   "source": [
    "df[\"Emotion_new\"]=df['Emotion'].map({\n",
    "    'anger':0,\n",
    "    'joy':1,\n",
    "    'fear':2\n",
    "})"
   ]
  },
  {
   "cell_type": "code",
   "execution_count": 6,
   "id": "2cce8dc5",
   "metadata": {},
   "outputs": [
    {
     "data": {
      "text/html": [
       "<div>\n",
       "<style scoped>\n",
       "    .dataframe tbody tr th:only-of-type {\n",
       "        vertical-align: middle;\n",
       "    }\n",
       "\n",
       "    .dataframe tbody tr th {\n",
       "        vertical-align: top;\n",
       "    }\n",
       "\n",
       "    .dataframe thead th {\n",
       "        text-align: right;\n",
       "    }\n",
       "</style>\n",
       "<table border=\"1\" class=\"dataframe\">\n",
       "  <thead>\n",
       "    <tr style=\"text-align: right;\">\n",
       "      <th></th>\n",
       "      <th>Comment</th>\n",
       "      <th>Emotion</th>\n",
       "      <th>Emotion_new</th>\n",
       "    </tr>\n",
       "  </thead>\n",
       "  <tbody>\n",
       "    <tr>\n",
       "      <th>0</th>\n",
       "      <td>i seriously hate one subject to death but now ...</td>\n",
       "      <td>fear</td>\n",
       "      <td>2</td>\n",
       "    </tr>\n",
       "    <tr>\n",
       "      <th>1</th>\n",
       "      <td>im so full of life i feel appalled</td>\n",
       "      <td>anger</td>\n",
       "      <td>0</td>\n",
       "    </tr>\n",
       "    <tr>\n",
       "      <th>2</th>\n",
       "      <td>i sit here to write i start to dig out my feel...</td>\n",
       "      <td>fear</td>\n",
       "      <td>2</td>\n",
       "    </tr>\n",
       "    <tr>\n",
       "      <th>3</th>\n",
       "      <td>ive been really angry with r and i feel like a...</td>\n",
       "      <td>joy</td>\n",
       "      <td>1</td>\n",
       "    </tr>\n",
       "    <tr>\n",
       "      <th>4</th>\n",
       "      <td>i feel suspicious if there is no one outside l...</td>\n",
       "      <td>fear</td>\n",
       "      <td>2</td>\n",
       "    </tr>\n",
       "    <tr>\n",
       "      <th>...</th>\n",
       "      <td>...</td>\n",
       "      <td>...</td>\n",
       "      <td>...</td>\n",
       "    </tr>\n",
       "    <tr>\n",
       "      <th>5932</th>\n",
       "      <td>i begun to feel distressed for you</td>\n",
       "      <td>fear</td>\n",
       "      <td>2</td>\n",
       "    </tr>\n",
       "    <tr>\n",
       "      <th>5933</th>\n",
       "      <td>i left feeling annoyed and angry thinking that...</td>\n",
       "      <td>anger</td>\n",
       "      <td>0</td>\n",
       "    </tr>\n",
       "    <tr>\n",
       "      <th>5934</th>\n",
       "      <td>i were to ever get married i d have everything...</td>\n",
       "      <td>joy</td>\n",
       "      <td>1</td>\n",
       "    </tr>\n",
       "    <tr>\n",
       "      <th>5935</th>\n",
       "      <td>i feel reluctant in applying there because i w...</td>\n",
       "      <td>fear</td>\n",
       "      <td>2</td>\n",
       "    </tr>\n",
       "    <tr>\n",
       "      <th>5936</th>\n",
       "      <td>i just wanted to apologize to you because i fe...</td>\n",
       "      <td>anger</td>\n",
       "      <td>0</td>\n",
       "    </tr>\n",
       "  </tbody>\n",
       "</table>\n",
       "<p>5937 rows × 3 columns</p>\n",
       "</div>"
      ],
      "text/plain": [
       "                                                Comment Emotion  Emotion_new\n",
       "0     i seriously hate one subject to death but now ...    fear            2\n",
       "1                    im so full of life i feel appalled   anger            0\n",
       "2     i sit here to write i start to dig out my feel...    fear            2\n",
       "3     ive been really angry with r and i feel like a...     joy            1\n",
       "4     i feel suspicious if there is no one outside l...    fear            2\n",
       "...                                                 ...     ...          ...\n",
       "5932                 i begun to feel distressed for you    fear            2\n",
       "5933  i left feeling annoyed and angry thinking that...   anger            0\n",
       "5934  i were to ever get married i d have everything...     joy            1\n",
       "5935  i feel reluctant in applying there because i w...    fear            2\n",
       "5936  i just wanted to apologize to you because i fe...   anger            0\n",
       "\n",
       "[5937 rows x 3 columns]"
      ]
     },
     "execution_count": 6,
     "metadata": {},
     "output_type": "execute_result"
    }
   ],
   "source": [
    "df"
   ]
  },
  {
   "cell_type": "code",
   "execution_count": 8,
   "id": "4f30fc38",
   "metadata": {},
   "outputs": [],
   "source": [
    "x_train,x_test,y_train,y_test=train_test_split(df['Comment'],df['Emotion_new'],test_size=0.2,random_state=42,stratify=df.Emotion_new)"
   ]
  },
  {
   "cell_type": "code",
   "execution_count": 10,
   "id": "6ad8a673",
   "metadata": {},
   "outputs": [
    {
     "data": {
      "text/plain": [
       "0.9183501683501684"
      ]
     },
     "execution_count": 10,
     "metadata": {},
     "output_type": "execute_result"
    }
   ],
   "source": [
    "model=Pipeline([\n",
    "    ('vectorizer',TfidfVectorizer()),\n",
    "    ('logistic regression',LogisticRegression())\n",
    "])\n",
    "model.fit(x_train,y_train)\n",
    "model.score(x_test,y_test)"
   ]
  },
  {
   "cell_type": "code",
   "execution_count": 12,
   "id": "4530fc8d",
   "metadata": {},
   "outputs": [
    {
     "data": {
      "text/plain": [
       "0.9057239057239057"
      ]
     },
     "execution_count": 12,
     "metadata": {},
     "output_type": "execute_result"
    }
   ],
   "source": [
    "model1=Pipeline([\n",
    "    ('vectorizer',TfidfVectorizer()),\n",
    "    ('naive_bayes',MultinomialNB())\n",
    "])\n",
    "model1.fit(x_train,y_train)\n",
    "model1.score(x_test,y_test)"
   ]
  },
  {
   "cell_type": "code",
   "execution_count": 14,
   "id": "9504e869",
   "metadata": {},
   "outputs": [
    {
     "data": {
      "text/plain": [
       "0.9166666666666666"
      ]
     },
     "execution_count": 14,
     "metadata": {},
     "output_type": "execute_result"
    }
   ],
   "source": [
    "model2=Pipeline([\n",
    "    ('vectorizer',TfidfVectorizer()),\n",
    "    ('svm',SVC())\n",
    "])\n",
    "model2.fit(x_train,y_train)\n",
    "model2.score(x_test,y_test)"
   ]
  },
  {
   "cell_type": "code",
   "execution_count": 18,
   "id": "4d9134a5",
   "metadata": {},
   "outputs": [
    {
     "data": {
      "text/plain": [
       "0.9132996632996633"
      ]
     },
     "execution_count": 18,
     "metadata": {},
     "output_type": "execute_result"
    }
   ],
   "source": [
    "model3=Pipeline([\n",
    "    ('vectorizer',TfidfVectorizer()),\n",
    "    ('random forest',RandomForestClassifier())\n",
    "])\n",
    "model3.fit(x_train,y_train)\n",
    "model3.score(x_test,y_test)"
   ]
  },
  {
   "cell_type": "code",
   "execution_count": 20,
   "id": "b410f3c4",
   "metadata": {},
   "outputs": [],
   "source": [
    "def preprocess(text):\n",
    "    doc=nlp(text)\n",
    "    filtered_tokens=[]\n",
    "    for token in doc:\n",
    "        if token.is_stop or token.is_punct:\n",
    "            continue\n",
    "        filtered_tokens.append(token.lemma_)\n",
    "    \n",
    "    return \" \".join(filtered_tokens) \n",
    "df['preprocessed_Comment']=df['Comment'].apply(preprocess)"
   ]
  },
  {
   "cell_type": "code",
   "execution_count": 21,
   "id": "e0af90d6",
   "metadata": {},
   "outputs": [
    {
     "data": {
      "text/html": [
       "<div>\n",
       "<style scoped>\n",
       "    .dataframe tbody tr th:only-of-type {\n",
       "        vertical-align: middle;\n",
       "    }\n",
       "\n",
       "    .dataframe tbody tr th {\n",
       "        vertical-align: top;\n",
       "    }\n",
       "\n",
       "    .dataframe thead th {\n",
       "        text-align: right;\n",
       "    }\n",
       "</style>\n",
       "<table border=\"1\" class=\"dataframe\">\n",
       "  <thead>\n",
       "    <tr style=\"text-align: right;\">\n",
       "      <th></th>\n",
       "      <th>Comment</th>\n",
       "      <th>Emotion</th>\n",
       "      <th>Emotion_new</th>\n",
       "      <th>preprocessed_Comment</th>\n",
       "    </tr>\n",
       "  </thead>\n",
       "  <tbody>\n",
       "    <tr>\n",
       "      <th>0</th>\n",
       "      <td>i seriously hate one subject to death but now ...</td>\n",
       "      <td>fear</td>\n",
       "      <td>2</td>\n",
       "      <td>seriously hate subject death feel reluctant drop</td>\n",
       "    </tr>\n",
       "    <tr>\n",
       "      <th>1</th>\n",
       "      <td>im so full of life i feel appalled</td>\n",
       "      <td>anger</td>\n",
       "      <td>0</td>\n",
       "      <td>m life feel appalled</td>\n",
       "    </tr>\n",
       "    <tr>\n",
       "      <th>2</th>\n",
       "      <td>i sit here to write i start to dig out my feel...</td>\n",
       "      <td>fear</td>\n",
       "      <td>2</td>\n",
       "      <td>sit write start dig feeling think afraid accep...</td>\n",
       "    </tr>\n",
       "    <tr>\n",
       "      <th>3</th>\n",
       "      <td>ive been really angry with r and i feel like a...</td>\n",
       "      <td>joy</td>\n",
       "      <td>1</td>\n",
       "      <td>ve angry r feel like idiot trust place</td>\n",
       "    </tr>\n",
       "    <tr>\n",
       "      <th>4</th>\n",
       "      <td>i feel suspicious if there is no one outside l...</td>\n",
       "      <td>fear</td>\n",
       "      <td>2</td>\n",
       "      <td>feel suspicious outside like rapture happen</td>\n",
       "    </tr>\n",
       "    <tr>\n",
       "      <th>...</th>\n",
       "      <td>...</td>\n",
       "      <td>...</td>\n",
       "      <td>...</td>\n",
       "      <td>...</td>\n",
       "    </tr>\n",
       "    <tr>\n",
       "      <th>5932</th>\n",
       "      <td>i begun to feel distressed for you</td>\n",
       "      <td>fear</td>\n",
       "      <td>2</td>\n",
       "      <td>begin feel distressed</td>\n",
       "    </tr>\n",
       "    <tr>\n",
       "      <th>5933</th>\n",
       "      <td>i left feeling annoyed and angry thinking that...</td>\n",
       "      <td>anger</td>\n",
       "      <td>0</td>\n",
       "      <td>leave feel annoyed angry thinking center stupi...</td>\n",
       "    </tr>\n",
       "    <tr>\n",
       "      <th>5934</th>\n",
       "      <td>i were to ever get married i d have everything...</td>\n",
       "      <td>joy</td>\n",
       "      <td>1</td>\n",
       "      <td>marry d ready offer ve get club perfect good l...</td>\n",
       "    </tr>\n",
       "    <tr>\n",
       "      <th>5935</th>\n",
       "      <td>i feel reluctant in applying there because i w...</td>\n",
       "      <td>fear</td>\n",
       "      <td>2</td>\n",
       "      <td>feel reluctant apply want able find company kn...</td>\n",
       "    </tr>\n",
       "    <tr>\n",
       "      <th>5936</th>\n",
       "      <td>i just wanted to apologize to you because i fe...</td>\n",
       "      <td>anger</td>\n",
       "      <td>0</td>\n",
       "      <td>want apologize feel like heartless bitch</td>\n",
       "    </tr>\n",
       "  </tbody>\n",
       "</table>\n",
       "<p>5937 rows × 4 columns</p>\n",
       "</div>"
      ],
      "text/plain": [
       "                                                Comment Emotion  Emotion_new  \\\n",
       "0     i seriously hate one subject to death but now ...    fear            2   \n",
       "1                    im so full of life i feel appalled   anger            0   \n",
       "2     i sit here to write i start to dig out my feel...    fear            2   \n",
       "3     ive been really angry with r and i feel like a...     joy            1   \n",
       "4     i feel suspicious if there is no one outside l...    fear            2   \n",
       "...                                                 ...     ...          ...   \n",
       "5932                 i begun to feel distressed for you    fear            2   \n",
       "5933  i left feeling annoyed and angry thinking that...   anger            0   \n",
       "5934  i were to ever get married i d have everything...     joy            1   \n",
       "5935  i feel reluctant in applying there because i w...    fear            2   \n",
       "5936  i just wanted to apologize to you because i fe...   anger            0   \n",
       "\n",
       "                                   preprocessed_Comment  \n",
       "0      seriously hate subject death feel reluctant drop  \n",
       "1                                  m life feel appalled  \n",
       "2     sit write start dig feeling think afraid accep...  \n",
       "3                ve angry r feel like idiot trust place  \n",
       "4           feel suspicious outside like rapture happen  \n",
       "...                                                 ...  \n",
       "5932                              begin feel distressed  \n",
       "5933  leave feel annoyed angry thinking center stupi...  \n",
       "5934  marry d ready offer ve get club perfect good l...  \n",
       "5935  feel reluctant apply want able find company kn...  \n",
       "5936           want apologize feel like heartless bitch  \n",
       "\n",
       "[5937 rows x 4 columns]"
      ]
     },
     "execution_count": 21,
     "metadata": {},
     "output_type": "execute_result"
    }
   ],
   "source": [
    "df"
   ]
  },
  {
   "cell_type": "code",
   "execution_count": 22,
   "id": "00f0be8b",
   "metadata": {},
   "outputs": [],
   "source": [
    "x_train,x_test,y_train,y_test=train_test_split(df['preprocessed_Comment'],df['Emotion_new'],test_size=0.2,random_state=42,stratify=df['Emotion_new'])"
   ]
  },
  {
   "cell_type": "code",
   "execution_count": 25,
   "id": "efd17ebc",
   "metadata": {},
   "outputs": [
    {
     "data": {
      "text/plain": [
       "0.9242424242424242"
      ]
     },
     "execution_count": 25,
     "metadata": {},
     "output_type": "execute_result"
    }
   ],
   "source": [
    "model4=Pipeline([\n",
    "    ('vectorizer',TfidfVectorizer()),\n",
    "    ('logistic regression',LogisticRegression())\n",
    "])\n",
    "model4.fit(x_train,y_train)\n",
    "model4.score(x_test,y_test)"
   ]
  },
  {
   "cell_type": "code",
   "execution_count": 24,
   "id": "5f20aef4",
   "metadata": {},
   "outputs": [
    {
     "data": {
      "text/plain": [
       "0.9276094276094277"
      ]
     },
     "execution_count": 24,
     "metadata": {},
     "output_type": "execute_result"
    }
   ],
   "source": [
    "model4=Pipeline([\n",
    "    ('vectorizer',TfidfVectorizer()),\n",
    "    ('random forest',RandomForestClassifier())\n",
    "])\n",
    "model4.fit(x_train,y_train)\n",
    "model4.score(x_test,y_test)"
   ]
  },
  {
   "cell_type": "code",
   "execution_count": 37,
   "id": "10d98252",
   "metadata": {},
   "outputs": [
    {
     "data": {
      "text/plain": [
       "'need prayer consider thing like feel little reluctant act'"
      ]
     },
     "execution_count": 37,
     "metadata": {},
     "output_type": "execute_result"
    }
   ],
   "source": [
    "df['preprocessed_Comment'][1340]"
   ]
  },
  {
   "cell_type": "code",
   "execution_count": 38,
   "id": "c6787148",
   "metadata": {},
   "outputs": [],
   "source": [
    "text=['deep feeling alaska cold snowy big open land pine tree mountain m destine live southern california'\n",
    ",'ve feel bother lately'\n",
    ",'need prayer consider thing like feel little reluctant act'\n",
    "]"
   ]
  },
  {
   "cell_type": "code",
   "execution_count": 39,
   "id": "ba0eaa5d",
   "metadata": {},
   "outputs": [],
   "source": [
    "def label(x):\n",
    "    for i in x:\n",
    "        if i==0:\n",
    "            print('anger')\n",
    "        elif i==1:\n",
    "            print('joy')\n",
    "        else:\n",
    "            print('fear')"
   ]
  },
  {
   "cell_type": "code",
   "execution_count": 40,
   "id": "38519ddb",
   "metadata": {},
   "outputs": [
    {
     "name": "stdout",
     "output_type": "stream",
     "text": [
      "anger\n",
      "anger\n",
      "fear\n"
     ]
    }
   ],
   "source": [
    "label(model4.predict(text))"
   ]
  },
  {
   "cell_type": "code",
   "execution_count": null,
   "id": "743937eb",
   "metadata": {},
   "outputs": [],
   "source": []
  }
 ],
 "metadata": {
  "kernelspec": {
   "display_name": "Python 3 (ipykernel)",
   "language": "python",
   "name": "python3"
  },
  "language_info": {
   "codemirror_mode": {
    "name": "ipython",
    "version": 3
   },
   "file_extension": ".py",
   "mimetype": "text/x-python",
   "name": "python",
   "nbconvert_exporter": "python",
   "pygments_lexer": "ipython3",
   "version": "3.11.3"
  }
 },
 "nbformat": 4,
 "nbformat_minor": 5
}
