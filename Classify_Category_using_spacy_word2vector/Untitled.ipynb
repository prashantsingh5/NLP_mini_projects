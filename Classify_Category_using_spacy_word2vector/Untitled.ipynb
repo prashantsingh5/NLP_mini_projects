{
 "cells": [
  {
   "cell_type": "code",
   "execution_count": 25,
   "id": "ee3ddb4d",
   "metadata": {},
   "outputs": [],
   "source": [
    "import pandas as pd\n",
    "import spacy\n",
    "nlp=spacy.load('en_core_web_lg')\n",
    "import numpy as np\n",
    "from sklearn.model_selection import train_test_split\n",
    "from sklearn.naive_bayes import MultinomialNB\n",
    "from sklearn.preprocessing import MinMaxScaler\n",
    "from sklearn.pipeline import Pipeline\n",
    "from sklearn.metrics import classification_report\n",
    "from sklearn.neighbors import KNeighborsClassifier\n",
    "from sklearn.ensemble import GradientBoostingClassifier"
   ]
  },
  {
   "cell_type": "code",
   "execution_count": 2,
   "id": "20ef8c96",
   "metadata": {},
   "outputs": [
    {
     "data": {
      "text/html": [
       "<div>\n",
       "<style scoped>\n",
       "    .dataframe tbody tr th:only-of-type {\n",
       "        vertical-align: middle;\n",
       "    }\n",
       "\n",
       "    .dataframe tbody tr th {\n",
       "        vertical-align: top;\n",
       "    }\n",
       "\n",
       "    .dataframe thead th {\n",
       "        text-align: right;\n",
       "    }\n",
       "</style>\n",
       "<table border=\"1\" class=\"dataframe\">\n",
       "  <thead>\n",
       "    <tr style=\"text-align: right;\">\n",
       "      <th></th>\n",
       "      <th>text</th>\n",
       "      <th>category</th>\n",
       "    </tr>\n",
       "  </thead>\n",
       "  <tbody>\n",
       "    <tr>\n",
       "      <th>0</th>\n",
       "      <td>Larry Nassar Blames His Victims, Says He 'Was ...</td>\n",
       "      <td>CRIME</td>\n",
       "    </tr>\n",
       "    <tr>\n",
       "      <th>1</th>\n",
       "      <td>Woman Beats Cancer, Dies Falling From Horse</td>\n",
       "      <td>CRIME</td>\n",
       "    </tr>\n",
       "    <tr>\n",
       "      <th>2</th>\n",
       "      <td>Vegas Taxpayers Could Spend A Record $750 Mill...</td>\n",
       "      <td>SPORTS</td>\n",
       "    </tr>\n",
       "    <tr>\n",
       "      <th>3</th>\n",
       "      <td>This Richard Sherman Interception Literally Sh...</td>\n",
       "      <td>SPORTS</td>\n",
       "    </tr>\n",
       "    <tr>\n",
       "      <th>4</th>\n",
       "      <td>7 Things That Could Totally Kill Weed Legaliza...</td>\n",
       "      <td>BUSINESS</td>\n",
       "    </tr>\n",
       "    <tr>\n",
       "      <th>...</th>\n",
       "      <td>...</td>\n",
       "      <td>...</td>\n",
       "    </tr>\n",
       "    <tr>\n",
       "      <th>7495</th>\n",
       "      <td>Sex Offender Registries Are Not Really Keeping...</td>\n",
       "      <td>CRIME</td>\n",
       "    </tr>\n",
       "    <tr>\n",
       "      <th>7496</th>\n",
       "      <td>'Stockbroker's Bible' Just Told Oil Industry T...</td>\n",
       "      <td>BUSINESS</td>\n",
       "    </tr>\n",
       "    <tr>\n",
       "      <th>7497</th>\n",
       "      <td>Want to Change It? Scale It!</td>\n",
       "      <td>BUSINESS</td>\n",
       "    </tr>\n",
       "    <tr>\n",
       "      <th>7498</th>\n",
       "      <td>How To Make A Billion Dollar Drug In 1961, new...</td>\n",
       "      <td>BUSINESS</td>\n",
       "    </tr>\n",
       "    <tr>\n",
       "      <th>7499</th>\n",
       "      <td>Souls of Wisdom It was the end of a fourth day...</td>\n",
       "      <td>BUSINESS</td>\n",
       "    </tr>\n",
       "  </tbody>\n",
       "</table>\n",
       "<p>7500 rows × 2 columns</p>\n",
       "</div>"
      ],
      "text/plain": [
       "                                                   text  category\n",
       "0     Larry Nassar Blames His Victims, Says He 'Was ...     CRIME\n",
       "1          Woman Beats Cancer, Dies Falling From Horse      CRIME\n",
       "2     Vegas Taxpayers Could Spend A Record $750 Mill...    SPORTS\n",
       "3     This Richard Sherman Interception Literally Sh...    SPORTS\n",
       "4     7 Things That Could Totally Kill Weed Legaliza...  BUSINESS\n",
       "...                                                 ...       ...\n",
       "7495  Sex Offender Registries Are Not Really Keeping...     CRIME\n",
       "7496  'Stockbroker's Bible' Just Told Oil Industry T...  BUSINESS\n",
       "7497                      Want to Change It? Scale It!   BUSINESS\n",
       "7498  How To Make A Billion Dollar Drug In 1961, new...  BUSINESS\n",
       "7499  Souls of Wisdom It was the end of a fourth day...  BUSINESS\n",
       "\n",
       "[7500 rows x 2 columns]"
      ]
     },
     "execution_count": 2,
     "metadata": {},
     "output_type": "execute_result"
    }
   ],
   "source": [
    "df=pd.read_json('news_dataset.json')\n",
    "df"
   ]
  },
  {
   "cell_type": "code",
   "execution_count": 3,
   "id": "0891581f",
   "metadata": {},
   "outputs": [
    {
     "data": {
      "text/plain": [
       "CRIME       2500\n",
       "SPORTS      2500\n",
       "BUSINESS    2500\n",
       "Name: category, dtype: int64"
      ]
     },
     "execution_count": 3,
     "metadata": {},
     "output_type": "execute_result"
    }
   ],
   "source": [
    "df.category.value_counts()"
   ]
  },
  {
   "cell_type": "code",
   "execution_count": 5,
   "id": "547a6fbd",
   "metadata": {},
   "outputs": [],
   "source": [
    "df['category_new']=df['category'].map({\n",
    "    'CRIME':0,\n",
    "    'SPORTS':1,\n",
    "    'BUSINESS':2\n",
    "})"
   ]
  },
  {
   "cell_type": "code",
   "execution_count": 6,
   "id": "983c61de",
   "metadata": {},
   "outputs": [
    {
     "data": {
      "text/html": [
       "<div>\n",
       "<style scoped>\n",
       "    .dataframe tbody tr th:only-of-type {\n",
       "        vertical-align: middle;\n",
       "    }\n",
       "\n",
       "    .dataframe tbody tr th {\n",
       "        vertical-align: top;\n",
       "    }\n",
       "\n",
       "    .dataframe thead th {\n",
       "        text-align: right;\n",
       "    }\n",
       "</style>\n",
       "<table border=\"1\" class=\"dataframe\">\n",
       "  <thead>\n",
       "    <tr style=\"text-align: right;\">\n",
       "      <th></th>\n",
       "      <th>text</th>\n",
       "      <th>category</th>\n",
       "      <th>category_new</th>\n",
       "    </tr>\n",
       "  </thead>\n",
       "  <tbody>\n",
       "    <tr>\n",
       "      <th>0</th>\n",
       "      <td>Larry Nassar Blames His Victims, Says He 'Was ...</td>\n",
       "      <td>CRIME</td>\n",
       "      <td>0</td>\n",
       "    </tr>\n",
       "    <tr>\n",
       "      <th>1</th>\n",
       "      <td>Woman Beats Cancer, Dies Falling From Horse</td>\n",
       "      <td>CRIME</td>\n",
       "      <td>0</td>\n",
       "    </tr>\n",
       "    <tr>\n",
       "      <th>2</th>\n",
       "      <td>Vegas Taxpayers Could Spend A Record $750 Mill...</td>\n",
       "      <td>SPORTS</td>\n",
       "      <td>1</td>\n",
       "    </tr>\n",
       "    <tr>\n",
       "      <th>3</th>\n",
       "      <td>This Richard Sherman Interception Literally Sh...</td>\n",
       "      <td>SPORTS</td>\n",
       "      <td>1</td>\n",
       "    </tr>\n",
       "    <tr>\n",
       "      <th>4</th>\n",
       "      <td>7 Things That Could Totally Kill Weed Legaliza...</td>\n",
       "      <td>BUSINESS</td>\n",
       "      <td>2</td>\n",
       "    </tr>\n",
       "    <tr>\n",
       "      <th>...</th>\n",
       "      <td>...</td>\n",
       "      <td>...</td>\n",
       "      <td>...</td>\n",
       "    </tr>\n",
       "    <tr>\n",
       "      <th>7495</th>\n",
       "      <td>Sex Offender Registries Are Not Really Keeping...</td>\n",
       "      <td>CRIME</td>\n",
       "      <td>0</td>\n",
       "    </tr>\n",
       "    <tr>\n",
       "      <th>7496</th>\n",
       "      <td>'Stockbroker's Bible' Just Told Oil Industry T...</td>\n",
       "      <td>BUSINESS</td>\n",
       "      <td>2</td>\n",
       "    </tr>\n",
       "    <tr>\n",
       "      <th>7497</th>\n",
       "      <td>Want to Change It? Scale It!</td>\n",
       "      <td>BUSINESS</td>\n",
       "      <td>2</td>\n",
       "    </tr>\n",
       "    <tr>\n",
       "      <th>7498</th>\n",
       "      <td>How To Make A Billion Dollar Drug In 1961, new...</td>\n",
       "      <td>BUSINESS</td>\n",
       "      <td>2</td>\n",
       "    </tr>\n",
       "    <tr>\n",
       "      <th>7499</th>\n",
       "      <td>Souls of Wisdom It was the end of a fourth day...</td>\n",
       "      <td>BUSINESS</td>\n",
       "      <td>2</td>\n",
       "    </tr>\n",
       "  </tbody>\n",
       "</table>\n",
       "<p>7500 rows × 3 columns</p>\n",
       "</div>"
      ],
      "text/plain": [
       "                                                   text  category  \\\n",
       "0     Larry Nassar Blames His Victims, Says He 'Was ...     CRIME   \n",
       "1          Woman Beats Cancer, Dies Falling From Horse      CRIME   \n",
       "2     Vegas Taxpayers Could Spend A Record $750 Mill...    SPORTS   \n",
       "3     This Richard Sherman Interception Literally Sh...    SPORTS   \n",
       "4     7 Things That Could Totally Kill Weed Legaliza...  BUSINESS   \n",
       "...                                                 ...       ...   \n",
       "7495  Sex Offender Registries Are Not Really Keeping...     CRIME   \n",
       "7496  'Stockbroker's Bible' Just Told Oil Industry T...  BUSINESS   \n",
       "7497                      Want to Change It? Scale It!   BUSINESS   \n",
       "7498  How To Make A Billion Dollar Drug In 1961, new...  BUSINESS   \n",
       "7499  Souls of Wisdom It was the end of a fourth day...  BUSINESS   \n",
       "\n",
       "      category_new  \n",
       "0                0  \n",
       "1                0  \n",
       "2                1  \n",
       "3                1  \n",
       "4                2  \n",
       "...            ...  \n",
       "7495             0  \n",
       "7496             2  \n",
       "7497             2  \n",
       "7498             2  \n",
       "7499             2  \n",
       "\n",
       "[7500 rows x 3 columns]"
      ]
     },
     "execution_count": 6,
     "metadata": {},
     "output_type": "execute_result"
    }
   ],
   "source": [
    "df"
   ]
  },
  {
   "cell_type": "code",
   "execution_count": 7,
   "id": "a0446d77",
   "metadata": {},
   "outputs": [],
   "source": [
    "df['vector']=df['text'].apply(lambda x: nlp(x).vector)"
   ]
  },
  {
   "cell_type": "code",
   "execution_count": 10,
   "id": "71dc0888",
   "metadata": {},
   "outputs": [],
   "source": [
    "x_train,x_test,y_train,y_test=train_test_split(df['vector'].values,df['category_new'],test_size=0.2,random_state=42,stratify=df.category_new)"
   ]
  },
  {
   "cell_type": "code",
   "execution_count": 11,
   "id": "bf3e3cff",
   "metadata": {},
   "outputs": [],
   "source": [
    "x_train_2d=np.stack(x_train)\n",
    "x_test_2d=np.stack(x_test)"
   ]
  },
  {
   "cell_type": "code",
   "execution_count": 12,
   "id": "e48e4ee3",
   "metadata": {},
   "outputs": [
    {
     "data": {
      "text/plain": [
       "0.692"
      ]
     },
     "execution_count": 12,
     "metadata": {},
     "output_type": "execute_result"
    }
   ],
   "source": [
    "model=Pipeline([\n",
    "    ('scaler',MinMaxScaler()),\n",
    "    ('naive bayes',MultinomialNB())\n",
    "])\n",
    "model.fit(x_train_2d,y_train)\n",
    "model.score(x_test_2d,y_test)"
   ]
  },
  {
   "cell_type": "code",
   "execution_count": 13,
   "id": "4db5a799",
   "metadata": {},
   "outputs": [
    {
     "name": "stdout",
     "output_type": "stream",
     "text": [
      "0.752\n",
      "              precision    recall  f1-score   support\n",
      "\n",
      "           0       0.72      0.82      0.77       500\n",
      "           1       0.73      0.71      0.72       500\n",
      "           2       0.81      0.73      0.76       500\n",
      "\n",
      "    accuracy                           0.75      1500\n",
      "   macro avg       0.75      0.75      0.75      1500\n",
      "weighted avg       0.75      0.75      0.75      1500\n",
      "\n"
     ]
    }
   ],
   "source": [
    "model1=Pipeline([\n",
    "    ('scaler',MinMaxScaler()),\n",
    "    ('knn',KNeighborsClassifier())\n",
    "])\n",
    "model1.fit(x_train_2d,y_train)\n",
    "print(model1.score(x_test_2d,y_test))\n",
    "y_pred1=model1.predict(x_test_2d)\n",
    "print(classification_report(y_test,y_pred1))"
   ]
  },
  {
   "cell_type": "code",
   "execution_count": 14,
   "id": "3b0c1d91",
   "metadata": {},
   "outputs": [],
   "source": [
    "def preprocess(text):\n",
    "    doc = nlp(text)\n",
    "    filtered_tokens = []\n",
    "    for token in doc:\n",
    "        if token.is_stop or token.is_punct:\n",
    "            continue\n",
    "        filtered_tokens.append(token.lemma_)\n",
    "    return ' '.join(filtered_tokens)"
   ]
  },
  {
   "cell_type": "code",
   "execution_count": 15,
   "id": "3a64e8cd",
   "metadata": {},
   "outputs": [],
   "source": [
    "df['text_preprocessed']=df['text'].apply(preprocess)"
   ]
  },
  {
   "cell_type": "code",
   "execution_count": 16,
   "id": "00244d1f",
   "metadata": {},
   "outputs": [
    {
     "data": {
      "text/html": [
       "<div>\n",
       "<style scoped>\n",
       "    .dataframe tbody tr th:only-of-type {\n",
       "        vertical-align: middle;\n",
       "    }\n",
       "\n",
       "    .dataframe tbody tr th {\n",
       "        vertical-align: top;\n",
       "    }\n",
       "\n",
       "    .dataframe thead th {\n",
       "        text-align: right;\n",
       "    }\n",
       "</style>\n",
       "<table border=\"1\" class=\"dataframe\">\n",
       "  <thead>\n",
       "    <tr style=\"text-align: right;\">\n",
       "      <th></th>\n",
       "      <th>text</th>\n",
       "      <th>category</th>\n",
       "      <th>category_new</th>\n",
       "      <th>vector</th>\n",
       "      <th>text_preprocessed</th>\n",
       "    </tr>\n",
       "  </thead>\n",
       "  <tbody>\n",
       "    <tr>\n",
       "      <th>0</th>\n",
       "      <td>Larry Nassar Blames His Victims, Says He 'Was ...</td>\n",
       "      <td>CRIME</td>\n",
       "      <td>0</td>\n",
       "      <td>[-0.62528795, 0.30613044, -1.1252857, -1.52891...</td>\n",
       "      <td>Larry Nassar blame victim say victimize newly ...</td>\n",
       "    </tr>\n",
       "    <tr>\n",
       "      <th>1</th>\n",
       "      <td>Woman Beats Cancer, Dies Falling From Horse</td>\n",
       "      <td>CRIME</td>\n",
       "      <td>0</td>\n",
       "      <td>[0.07858125, -1.8231387, 0.43582, -0.15502499,...</td>\n",
       "      <td>woman Beats Cancer die fall horse</td>\n",
       "    </tr>\n",
       "    <tr>\n",
       "      <th>2</th>\n",
       "      <td>Vegas Taxpayers Could Spend A Record $750 Mill...</td>\n",
       "      <td>SPORTS</td>\n",
       "      <td>1</td>\n",
       "      <td>[-2.1691844, 1.8227255, -2.8935153, 0.37569532...</td>\n",
       "      <td>vegas taxpayer spend Record $ 750 million New ...</td>\n",
       "    </tr>\n",
       "    <tr>\n",
       "      <th>3</th>\n",
       "      <td>This Richard Sherman Interception Literally Sh...</td>\n",
       "      <td>SPORTS</td>\n",
       "      <td>1</td>\n",
       "      <td>[-1.1437662, -1.0418652, 0.021148713, -0.85042...</td>\n",
       "      <td>Richard Sherman Interception literally shake W...</td>\n",
       "    </tr>\n",
       "    <tr>\n",
       "      <th>4</th>\n",
       "      <td>7 Things That Could Totally Kill Weed Legaliza...</td>\n",
       "      <td>BUSINESS</td>\n",
       "      <td>2</td>\n",
       "      <td>[0.12745197, 0.47146398, -1.4749851, -0.184787...</td>\n",
       "      <td>7 thing totally kill Weed Legalization Buzz</td>\n",
       "    </tr>\n",
       "    <tr>\n",
       "      <th>...</th>\n",
       "      <td>...</td>\n",
       "      <td>...</td>\n",
       "      <td>...</td>\n",
       "      <td>...</td>\n",
       "      <td>...</td>\n",
       "    </tr>\n",
       "    <tr>\n",
       "      <th>7495</th>\n",
       "      <td>Sex Offender Registries Are Not Really Keeping...</td>\n",
       "      <td>CRIME</td>\n",
       "      <td>0</td>\n",
       "      <td>[-2.4190354, 1.174435, -2.1933095, 1.2168986, ...</td>\n",
       "      <td>sex offender registry keep child safe problem ...</td>\n",
       "    </tr>\n",
       "    <tr>\n",
       "      <th>7496</th>\n",
       "      <td>'Stockbroker's Bible' Just Told Oil Industry T...</td>\n",
       "      <td>BUSINESS</td>\n",
       "      <td>2</td>\n",
       "      <td>[0.39541775, 1.2807539, -0.03717802, 0.2906668...</td>\n",
       "      <td>Stockbroker Bible tell Oil Industry accept dem...</td>\n",
       "    </tr>\n",
       "    <tr>\n",
       "      <th>7497</th>\n",
       "      <td>Want to Change It? Scale It!</td>\n",
       "      <td>BUSINESS</td>\n",
       "      <td>2</td>\n",
       "      <td>[2.0343125, 4.0026126, -4.4549384, -1.3082138,...</td>\n",
       "      <td>want change scale</td>\n",
       "    </tr>\n",
       "    <tr>\n",
       "      <th>7498</th>\n",
       "      <td>How To Make A Billion Dollar Drug In 1961, new...</td>\n",
       "      <td>BUSINESS</td>\n",
       "      <td>2</td>\n",
       "      <td>[-2.8487475, -1.0849923, -0.92757547, -1.17545...</td>\n",
       "      <td>billion Dollar Drug 1961 newspaper world run s...</td>\n",
       "    </tr>\n",
       "    <tr>\n",
       "      <th>7499</th>\n",
       "      <td>Souls of Wisdom It was the end of a fourth day...</td>\n",
       "      <td>BUSINESS</td>\n",
       "      <td>2</td>\n",
       "      <td>[-3.0955396, -0.6706412, -1.8952594, 0.3202129...</td>\n",
       "      <td>soul Wisdom end fourth day pack programming Ma...</td>\n",
       "    </tr>\n",
       "  </tbody>\n",
       "</table>\n",
       "<p>7500 rows × 5 columns</p>\n",
       "</div>"
      ],
      "text/plain": [
       "                                                   text  category  \\\n",
       "0     Larry Nassar Blames His Victims, Says He 'Was ...     CRIME   \n",
       "1          Woman Beats Cancer, Dies Falling From Horse      CRIME   \n",
       "2     Vegas Taxpayers Could Spend A Record $750 Mill...    SPORTS   \n",
       "3     This Richard Sherman Interception Literally Sh...    SPORTS   \n",
       "4     7 Things That Could Totally Kill Weed Legaliza...  BUSINESS   \n",
       "...                                                 ...       ...   \n",
       "7495  Sex Offender Registries Are Not Really Keeping...     CRIME   \n",
       "7496  'Stockbroker's Bible' Just Told Oil Industry T...  BUSINESS   \n",
       "7497                      Want to Change It? Scale It!   BUSINESS   \n",
       "7498  How To Make A Billion Dollar Drug In 1961, new...  BUSINESS   \n",
       "7499  Souls of Wisdom It was the end of a fourth day...  BUSINESS   \n",
       "\n",
       "      category_new                                             vector  \\\n",
       "0                0  [-0.62528795, 0.30613044, -1.1252857, -1.52891...   \n",
       "1                0  [0.07858125, -1.8231387, 0.43582, -0.15502499,...   \n",
       "2                1  [-2.1691844, 1.8227255, -2.8935153, 0.37569532...   \n",
       "3                1  [-1.1437662, -1.0418652, 0.021148713, -0.85042...   \n",
       "4                2  [0.12745197, 0.47146398, -1.4749851, -0.184787...   \n",
       "...            ...                                                ...   \n",
       "7495             0  [-2.4190354, 1.174435, -2.1933095, 1.2168986, ...   \n",
       "7496             2  [0.39541775, 1.2807539, -0.03717802, 0.2906668...   \n",
       "7497             2  [2.0343125, 4.0026126, -4.4549384, -1.3082138,...   \n",
       "7498             2  [-2.8487475, -1.0849923, -0.92757547, -1.17545...   \n",
       "7499             2  [-3.0955396, -0.6706412, -1.8952594, 0.3202129...   \n",
       "\n",
       "                                      text_preprocessed  \n",
       "0     Larry Nassar blame victim say victimize newly ...  \n",
       "1                     woman Beats Cancer die fall horse  \n",
       "2     vegas taxpayer spend Record $ 750 million New ...  \n",
       "3     Richard Sherman Interception literally shake W...  \n",
       "4           7 thing totally kill Weed Legalization Buzz  \n",
       "...                                                 ...  \n",
       "7495  sex offender registry keep child safe problem ...  \n",
       "7496  Stockbroker Bible tell Oil Industry accept dem...  \n",
       "7497                                  want change scale  \n",
       "7498  billion Dollar Drug 1961 newspaper world run s...  \n",
       "7499  soul Wisdom end fourth day pack programming Ma...  \n",
       "\n",
       "[7500 rows x 5 columns]"
      ]
     },
     "execution_count": 16,
     "metadata": {},
     "output_type": "execute_result"
    }
   ],
   "source": [
    "df"
   ]
  },
  {
   "cell_type": "code",
   "execution_count": 17,
   "id": "78757d60",
   "metadata": {},
   "outputs": [],
   "source": [
    "df['vector_preprocessed']=df['text_preprocessed'].apply(lambda x: nlp(x).vector)"
   ]
  },
  {
   "cell_type": "code",
   "execution_count": 19,
   "id": "22cd7d4b",
   "metadata": {},
   "outputs": [],
   "source": [
    "x_train,x_test,y_train,y_test=train_test_split(df['vector_preprocessed'].values,df['category_new'],test_size=0.2,random_state=42,stratify=df.category_new)"
   ]
  },
  {
   "cell_type": "code",
   "execution_count": 22,
   "id": "7a863e22",
   "metadata": {},
   "outputs": [],
   "source": [
    "x_train_2d = np.stack(x_train)\n",
    "x_test_2d =  np.stack(x_test)"
   ]
  },
  {
   "cell_type": "code",
   "execution_count": 23,
   "id": "6c4f6f91",
   "metadata": {},
   "outputs": [
    {
     "data": {
      "text/plain": [
       "0.8166666666666667"
      ]
     },
     "execution_count": 23,
     "metadata": {},
     "output_type": "execute_result"
    }
   ],
   "source": [
    "model=Pipeline([\n",
    "    ('scaler',MinMaxScaler()),\n",
    "    ('naive bayes',MultinomialNB())\n",
    "])\n",
    "model.fit(x_train_2d,y_train)\n",
    "model.score(x_test_2d,y_test)"
   ]
  },
  {
   "cell_type": "code",
   "execution_count": 24,
   "id": "0fa39e54",
   "metadata": {},
   "outputs": [
    {
     "name": "stdout",
     "output_type": "stream",
     "text": [
      "0.8653333333333333\n",
      "              precision    recall  f1-score   support\n",
      "\n",
      "           0       0.82      0.90      0.86       500\n",
      "           1       0.90      0.83      0.86       500\n",
      "           2       0.88      0.86      0.87       500\n",
      "\n",
      "    accuracy                           0.87      1500\n",
      "   macro avg       0.87      0.87      0.87      1500\n",
      "weighted avg       0.87      0.87      0.87      1500\n",
      "\n"
     ]
    }
   ],
   "source": [
    "model1=Pipeline([\n",
    "    ('scaler',MinMaxScaler()),\n",
    "    ('knn',KNeighborsClassifier())\n",
    "])\n",
    "model1.fit(x_train_2d,y_train)\n",
    "print(model1.score(x_test_2d,y_test))\n",
    "y_pred1=model1.predict(x_test_2d)\n",
    "print(classification_report(y_test,y_pred1))"
   ]
  },
  {
   "cell_type": "code",
   "execution_count": 26,
   "id": "a329834e",
   "metadata": {},
   "outputs": [
    {
     "name": "stdout",
     "output_type": "stream",
     "text": [
      "0.886\n",
      "              precision    recall  f1-score   support\n",
      "\n",
      "           0       0.89      0.88      0.89       500\n",
      "           1       0.88      0.89      0.88       500\n",
      "           2       0.89      0.89      0.89       500\n",
      "\n",
      "    accuracy                           0.89      1500\n",
      "   macro avg       0.89      0.89      0.89      1500\n",
      "weighted avg       0.89      0.89      0.89      1500\n",
      "\n"
     ]
    }
   ],
   "source": [
    "model2=Pipeline([\n",
    "    ('scaler',MinMaxScaler()),\n",
    "    ('gadient boosting',GradientBoostingClassifier())\n",
    "])\n",
    "model2.fit(x_train_2d,y_train)\n",
    "print(model2.score(x_test_2d,y_test))\n",
    "y_pred2=model2.predict(x_test_2d)\n",
    "print(classification_report(y_test,y_pred2))"
   ]
  },
  {
   "cell_type": "code",
   "execution_count": null,
   "id": "bc3c1ca3",
   "metadata": {},
   "outputs": [],
   "source": []
  }
 ],
 "metadata": {
  "kernelspec": {
   "display_name": "Python 3 (ipykernel)",
   "language": "python",
   "name": "python3"
  },
  "language_info": {
   "codemirror_mode": {
    "name": "ipython",
    "version": 3
   },
   "file_extension": ".py",
   "mimetype": "text/x-python",
   "name": "python",
   "nbconvert_exporter": "python",
   "pygments_lexer": "ipython3",
   "version": "3.11.3"
  }
 },
 "nbformat": 4,
 "nbformat_minor": 5
}
