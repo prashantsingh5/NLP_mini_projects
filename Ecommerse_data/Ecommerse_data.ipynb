{
 "cells": [
  {
   "cell_type": "code",
   "execution_count": 32,
   "id": "19b4d8db",
   "metadata": {},
   "outputs": [],
   "source": [
    "import pandas as pd\n",
    "import numpy as np\n",
    "import spacy\n",
    "from sklearn.model_selection import train_test_split\n",
    "from sklearn.feature_extraction.text import TfidfVectorizer\n",
    "from sklearn.pipeline import Pipeline\n",
    "from sklearn.linear_model import LogisticRegression\n",
    "from sklearn.ensemble import RandomForestClassifier\n",
    "from sklearn.naive_bayes import MultinomialNB\n",
    "nlp = spacy.load(\"en_core_web_sm\") "
   ]
  },
  {
   "cell_type": "code",
   "execution_count": 4,
   "id": "c5fa8665",
   "metadata": {},
   "outputs": [
    {
     "data": {
      "text/html": [
       "<div>\n",
       "<style scoped>\n",
       "    .dataframe tbody tr th:only-of-type {\n",
       "        vertical-align: middle;\n",
       "    }\n",
       "\n",
       "    .dataframe tbody tr th {\n",
       "        vertical-align: top;\n",
       "    }\n",
       "\n",
       "    .dataframe thead th {\n",
       "        text-align: right;\n",
       "    }\n",
       "</style>\n",
       "<table border=\"1\" class=\"dataframe\">\n",
       "  <thead>\n",
       "    <tr style=\"text-align: right;\">\n",
       "      <th></th>\n",
       "      <th>Text</th>\n",
       "      <th>label</th>\n",
       "    </tr>\n",
       "  </thead>\n",
       "  <tbody>\n",
       "    <tr>\n",
       "      <th>0</th>\n",
       "      <td>Urban Ladder Eisner Low Back Study-Office Comp...</td>\n",
       "      <td>Household</td>\n",
       "    </tr>\n",
       "    <tr>\n",
       "      <th>1</th>\n",
       "      <td>Contrast living Wooden Decorative Box,Painted ...</td>\n",
       "      <td>Household</td>\n",
       "    </tr>\n",
       "    <tr>\n",
       "      <th>2</th>\n",
       "      <td>IO Crest SY-PCI40010 PCI RAID Host Controller ...</td>\n",
       "      <td>Electronics</td>\n",
       "    </tr>\n",
       "    <tr>\n",
       "      <th>3</th>\n",
       "      <td>ISAKAA Baby Socks from Just Born to 8 Years- P...</td>\n",
       "      <td>Clothing &amp; Accessories</td>\n",
       "    </tr>\n",
       "    <tr>\n",
       "      <th>4</th>\n",
       "      <td>Indira Designer Women's Art Mysore Silk Saree ...</td>\n",
       "      <td>Clothing &amp; Accessories</td>\n",
       "    </tr>\n",
       "    <tr>\n",
       "      <th>...</th>\n",
       "      <td>...</td>\n",
       "      <td>...</td>\n",
       "    </tr>\n",
       "    <tr>\n",
       "      <th>23995</th>\n",
       "      <td>Marvel Physics MCQ's for MHT - CET</td>\n",
       "      <td>Books</td>\n",
       "    </tr>\n",
       "    <tr>\n",
       "      <th>23996</th>\n",
       "      <td>Internet Download Manager | Lifetime License |...</td>\n",
       "      <td>Books</td>\n",
       "    </tr>\n",
       "    <tr>\n",
       "      <th>23997</th>\n",
       "      <td>Sadhubela's Handcrafted Iron Degchi Handi Pot ...</td>\n",
       "      <td>Household</td>\n",
       "    </tr>\n",
       "    <tr>\n",
       "      <th>23998</th>\n",
       "      <td>Audio-Technica AT-LP60 Automatic Belt Driven D...</td>\n",
       "      <td>Electronics</td>\n",
       "    </tr>\n",
       "    <tr>\n",
       "      <th>23999</th>\n",
       "      <td>LG GH24NSB0 DVD Writer 24X SATA Internal OEM P...</td>\n",
       "      <td>Electronics</td>\n",
       "    </tr>\n",
       "  </tbody>\n",
       "</table>\n",
       "<p>24000 rows × 2 columns</p>\n",
       "</div>"
      ],
      "text/plain": [
       "                                                    Text  \\\n",
       "0      Urban Ladder Eisner Low Back Study-Office Comp...   \n",
       "1      Contrast living Wooden Decorative Box,Painted ...   \n",
       "2      IO Crest SY-PCI40010 PCI RAID Host Controller ...   \n",
       "3      ISAKAA Baby Socks from Just Born to 8 Years- P...   \n",
       "4      Indira Designer Women's Art Mysore Silk Saree ...   \n",
       "...                                                  ...   \n",
       "23995                 Marvel Physics MCQ's for MHT - CET   \n",
       "23996  Internet Download Manager | Lifetime License |...   \n",
       "23997  Sadhubela's Handcrafted Iron Degchi Handi Pot ...   \n",
       "23998  Audio-Technica AT-LP60 Automatic Belt Driven D...   \n",
       "23999  LG GH24NSB0 DVD Writer 24X SATA Internal OEM P...   \n",
       "\n",
       "                        label  \n",
       "0                   Household  \n",
       "1                   Household  \n",
       "2                 Electronics  \n",
       "3      Clothing & Accessories  \n",
       "4      Clothing & Accessories  \n",
       "...                       ...  \n",
       "23995                   Books  \n",
       "23996                   Books  \n",
       "23997               Household  \n",
       "23998             Electronics  \n",
       "23999             Electronics  \n",
       "\n",
       "[24000 rows x 2 columns]"
      ]
     },
     "execution_count": 4,
     "metadata": {},
     "output_type": "execute_result"
    }
   ],
   "source": [
    "df=pd.read_csv('Ecommerce_data.csv')\n",
    "df"
   ]
  },
  {
   "cell_type": "code",
   "execution_count": 5,
   "id": "3f118e2d",
   "metadata": {},
   "outputs": [
    {
     "name": "stdout",
     "output_type": "stream",
     "text": [
      "Household                 6000\n",
      "Electronics               6000\n",
      "Clothing & Accessories    6000\n",
      "Books                     6000\n",
      "Name: label, dtype: int64\n"
     ]
    }
   ],
   "source": [
    "print(df['label'].value_counts())"
   ]
  },
  {
   "cell_type": "code",
   "execution_count": 9,
   "id": "a85ff939",
   "metadata": {},
   "outputs": [],
   "source": [
    "df['label_new']=df['label'].map({\n",
    "    'Household':0,\n",
    "    'Electronics':1,\n",
    "    'Clothing & Accessories':2,\n",
    "    'Books':3\n",
    "})"
   ]
  },
  {
   "cell_type": "code",
   "execution_count": 28,
   "id": "77428aef",
   "metadata": {},
   "outputs": [],
   "source": [
    "x_train,x_test,y_train,y_test=train_test_split(df['Text'],df['label_new'],test_size=0.2,random_state=42,stratify=df['label_new'])"
   ]
  },
  {
   "cell_type": "code",
   "execution_count": 29,
   "id": "d26dbb85",
   "metadata": {},
   "outputs": [
    {
     "name": "stderr",
     "output_type": "stream",
     "text": [
      "C:\\Users\\prachi\\anaconda3\\Lib\\site-packages\\sklearn\\linear_model\\_logistic.py:458: ConvergenceWarning: lbfgs failed to converge (status=1):\n",
      "STOP: TOTAL NO. of ITERATIONS REACHED LIMIT.\n",
      "\n",
      "Increase the number of iterations (max_iter) or scale the data as shown in:\n",
      "    https://scikit-learn.org/stable/modules/preprocessing.html\n",
      "Please also refer to the documentation for alternative solver options:\n",
      "    https://scikit-learn.org/stable/modules/linear_model.html#logistic-regression\n",
      "  n_iter_i = _check_optimize_result(\n"
     ]
    },
    {
     "data": {
      "text/plain": [
       "0.9754166666666667"
      ]
     },
     "execution_count": 29,
     "metadata": {},
     "output_type": "execute_result"
    }
   ],
   "source": [
    "model=Pipeline([\n",
    "    ('vectorizer',TfidfVectorizer()),\n",
    "    ('logistic regression',LogisticRegression())  \n",
    "])\n",
    "model.fit(x_train,y_train)\n",
    "model.score(x_test,y_test)"
   ]
  },
  {
   "cell_type": "code",
   "execution_count": 30,
   "id": "5b749544",
   "metadata": {},
   "outputs": [
    {
     "data": {
      "text/plain": [
       "0.97375"
      ]
     },
     "execution_count": 30,
     "metadata": {},
     "output_type": "execute_result"
    }
   ],
   "source": [
    "model2=Pipeline([\n",
    "    ('vectorizer',TfidfVectorizer()),\n",
    "    ('random forest',RandomForestClassifier())  \n",
    "])\n",
    "model2.fit(x_train,y_train)\n",
    "model2.score(x_test,y_test)"
   ]
  },
  {
   "cell_type": "code",
   "execution_count": 23,
   "id": "a0ed63d3",
   "metadata": {},
   "outputs": [
    {
     "data": {
      "text/plain": [
       "0.964375"
      ]
     },
     "execution_count": 23,
     "metadata": {},
     "output_type": "execute_result"
    }
   ],
   "source": [
    "model1=Pipeline([\n",
    "    ('vectorizer',TfidfVectorizer()),\n",
    "    ('naive_bayes',MultinomialNB())  \n",
    "])\n",
    "model1.fit(x_train,y_train)\n",
    "model1.score(x_test,y_test)"
   ]
  },
  {
   "cell_type": "code",
   "execution_count": 33,
   "id": "e35c0f1a",
   "metadata": {},
   "outputs": [],
   "source": [
    "def preprocess(text):\n",
    "    doc=nlp(text)\n",
    "    filtered_tokens=[]\n",
    "    for token in doc:\n",
    "        if token.is_stop or token.is_punct:\n",
    "            continue\n",
    "        filtered_tokens.append(token.lemma_)\n",
    "    \n",
    "    return \" \".join(filtered_tokens) \n",
    "df['preprocessed_text']=df['Text'].apply(preprocess)"
   ]
  },
  {
   "cell_type": "code",
   "execution_count": 35,
   "id": "c41354b9",
   "metadata": {},
   "outputs": [],
   "source": [
    "x_train,x_test,y_train,y_test=train_test_split(df['preprocessed_text'],df['label_new'],test_size=0.2,random_state=42,stratify=df['label_new'])"
   ]
  },
  {
   "cell_type": "code",
   "execution_count": 36,
   "id": "d4f24efe",
   "metadata": {},
   "outputs": [
    {
     "name": "stderr",
     "output_type": "stream",
     "text": [
      "C:\\Users\\prachi\\anaconda3\\Lib\\site-packages\\sklearn\\linear_model\\_logistic.py:458: ConvergenceWarning: lbfgs failed to converge (status=1):\n",
      "STOP: TOTAL NO. of ITERATIONS REACHED LIMIT.\n",
      "\n",
      "Increase the number of iterations (max_iter) or scale the data as shown in:\n",
      "    https://scikit-learn.org/stable/modules/preprocessing.html\n",
      "Please also refer to the documentation for alternative solver options:\n",
      "    https://scikit-learn.org/stable/modules/linear_model.html#logistic-regression\n",
      "  n_iter_i = _check_optimize_result(\n"
     ]
    },
    {
     "data": {
      "text/plain": [
       "0.9741666666666666"
      ]
     },
     "execution_count": 36,
     "metadata": {},
     "output_type": "execute_result"
    }
   ],
   "source": [
    "model3=Pipeline([\n",
    "    ('vectorizer',TfidfVectorizer()),\n",
    "    ('logistic regression',LogisticRegression())  \n",
    "])\n",
    "model3.fit(x_train,y_train)\n",
    "model3.score(x_test,y_test)"
   ]
  },
  {
   "cell_type": "code",
   "execution_count": 37,
   "id": "64cf4a8b",
   "metadata": {},
   "outputs": [
    {
     "data": {
      "text/plain": [
       "0.965"
      ]
     },
     "execution_count": 37,
     "metadata": {},
     "output_type": "execute_result"
    }
   ],
   "source": [
    "model4=Pipeline([\n",
    "    ('vectorizer',TfidfVectorizer()),\n",
    "    ('naive_bayes',MultinomialNB())  \n",
    "])\n",
    "model4.fit(x_train,y_train)\n",
    "model4.score(x_test,y_test)"
   ]
  },
  {
   "cell_type": "code",
   "execution_count": 40,
   "id": "15d5cd78",
   "metadata": {},
   "outputs": [
    {
     "data": {
      "text/plain": [
       "\"Wildcraft Work Packs'18 21 Ltrs Black Laptop Backpack (Streak Plus) Fits upto 15 inch. Side mesh pocket for water bottle. Padded back system for carrying comfort. Webbing haul loop. Internal organizer.\""
      ]
     },
     "execution_count": 40,
     "metadata": {},
     "output_type": "execute_result"
    }
   ],
   "source": [
    "df['Text'][985]"
   ]
  },
  {
   "cell_type": "code",
   "execution_count": 41,
   "id": "ec3dfa93",
   "metadata": {},
   "outputs": [],
   "source": [
    "text=[\"Indira Designer Women's Art Mysore Silk Saree With Blouse Piece (Star-Red) This Saree Is Of Art Mysore Silk & Comes With Blouse Piece.\",   \n",
    "    \"Mothercare Baby Girls' Sleepsuit (Pack of 3) These gorgeous pack of 3 sleepsuits have been designed in a soft and cosy cotton for a comfortable night's sleep, The poppers are nickel-free to prevent irritation on your baby's delicate skin. The feet are enclosed for warmth and they have our toe safe design which prevents threads wrapping around tiny toes.\",\n",
    "      \"Wildcraft Work Packs'18 21 Ltrs Black Laptop Backpack (Streak Plus) Fits upto 15 inch. Side mesh pocket for water bottle. Padded back system for carrying comfort. Webbing haul loop. Internal organizer.\"\n",
    "]"
   ]
  },
  {
   "cell_type": "code",
   "execution_count": 44,
   "id": "edba84c6",
   "metadata": {},
   "outputs": [],
   "source": [
    "def label(x):\n",
    "    for i in x:\n",
    "        if i==0:\n",
    "            print('Household')\n",
    "        elif i==1:\n",
    "            print('Electronics')\n",
    "        elif i==2:\n",
    "            print('Clothing & Accessories')\n",
    "        else:\n",
    "            print('Books')"
   ]
  },
  {
   "cell_type": "code",
   "execution_count": 45,
   "id": "3eb1c84a",
   "metadata": {},
   "outputs": [
    {
     "name": "stdout",
     "output_type": "stream",
     "text": [
      "Clothing & Accessories\n",
      "Clothing & Accessories\n",
      "Electronics\n"
     ]
    }
   ],
   "source": [
    "label(model.predict(text))"
   ]
  },
  {
   "cell_type": "code",
   "execution_count": null,
   "id": "50506a33",
   "metadata": {},
   "outputs": [],
   "source": []
  }
 ],
 "metadata": {
  "kernelspec": {
   "display_name": "Python 3 (ipykernel)",
   "language": "python",
   "name": "python3"
  },
  "language_info": {
   "codemirror_mode": {
    "name": "ipython",
    "version": 3
   },
   "file_extension": ".py",
   "mimetype": "text/x-python",
   "name": "python",
   "nbconvert_exporter": "python",
   "pygments_lexer": "ipython3",
   "version": "3.11.3"
  }
 },
 "nbformat": 4,
 "nbformat_minor": 5
}
